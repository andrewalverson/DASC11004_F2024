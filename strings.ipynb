{
 "cells": [
  {
   "cell_type": "markdown",
   "metadata": {},
   "source": [
    "## Understanding `print()`\n",
    "\n",
    "  - THIS SECTION IS ALL ABOUT PRINTING"
   ]
  },
  {
   "cell_type": "code",
   "execution_count": null,
   "metadata": {
    "tags": []
   },
   "outputs": [],
   "source": [
    "# hello world\n",
    "print(\"hello world\")\n",
    "print('hello world')"
   ]
  },
  {
   "cell_type": "markdown",
   "metadata": {},
   "source": [
    "### Printing quotation marks\n",
    "\n",
    "##### Write two print statements that give the following output:\n",
    "\n",
    "She said, 'hello world'\n",
    "\n",
    "She said, \"hello world\"\n"
   ]
  },
  {
   "cell_type": "code",
   "execution_count": null,
   "metadata": {
    "tags": []
   },
   "outputs": [],
   "source": [
    "print(\"She said, 'hello world'\")\n",
    "print('She said, \"hello world\"')\n",
    "print('She said, \\'hello world\\'')"
   ]
  },
  {
   "cell_type": "markdown",
   "metadata": {},
   "source": [
    "### Store and print a variable"
   ]
  },
  {
   "cell_type": "code",
   "execution_count": null,
   "metadata": {
    "tags": []
   },
   "outputs": [],
   "source": [
    "# define some strings\n",
    "first = 'bob'\n",
    "last = 'dylan'\n",
    "\n",
    "# concatenate those strings\n",
    "full = first + ' ' + last\n",
    "\n",
    "# print the strings\n",
    "# print without a newline\n",
    "print(first, end='')\n",
    "# print with an extra newline\n",
    "print(first + '\\n')\n",
    "\n",
    "print(\"---- printing lists ----\")\n",
    "print() # prints just a new line\n",
    "\n",
    "# print() takes a list\n",
    "print(first, last)\n",
    "print(first, last, \"is really old!\")\n",
    "\n",
    "# more onerous with concatenation\n",
    "print(first + ' ' + last + ' ' + 'is really old!')\n",
    "\n",
    "# what type of variable is this anyway?\n",
    "print(type(first))\n",
    "print(type(full))\n"
   ]
  },
  {
   "cell_type": "markdown",
   "metadata": {},
   "source": [
    "### Get the length of a string"
   ]
  },
  {
   "cell_type": "code",
   "execution_count": null,
   "metadata": {
    "tags": []
   },
   "outputs": [],
   "source": [
    "# the long (but readable) way\n",
    "name_length = len(full)\n",
    "print(\"name length of\", full, \"is\", name_length)\n",
    "\n",
    "# a more concise way to do it, functions within functions\n",
    "print(\"length of name:\", len(full))\n",
    "print(len(full))\n",
    "\n",
    "# a formatted print\n",
    "print(f'there are {name_length} characters in Bob Dylan\\'s name.')\n",
    "print(f\"there are {name_length} characters in Bob Dylan\\'s name.\")\n",
    "my_string = f\"there are {name_length} characters in Bob Dylan\\'s name.\"\n",
    "print(my_string)"
   ]
  },
  {
   "cell_type": "markdown",
   "metadata": {},
   "source": [
    "## Printing strings and numbers"
   ]
  },
  {
   "cell_type": "markdown",
   "metadata": {},
   "source": [
    "### If x = 7 and y = \"7\", using both x and y, write two print statements to print \"77\" and \"14\" as the output"
   ]
  },
  {
   "cell_type": "code",
   "execution_count": null,
   "metadata": {},
   "outputs": [],
   "source": [
    "x = 7\n",
    "y = \"7\"\n",
    "print(\"x:\", type(x))\n",
    "print(\"y:\", type(y))\n",
    "\n",
    "# print 77\n",
    "print(str(x) + y)\n",
    "\n",
    "# print 14\n",
    "print(x + int(y))"
   ]
  },
  {
   "cell_type": "markdown",
   "metadata": {},
   "source": [
    "## Some operations on strings"
   ]
  },
  {
   "cell_type": "code",
   "execution_count": null,
   "metadata": {
    "tags": []
   },
   "outputs": [],
   "source": [
    "# methods to change the case of a string\n"
   ]
  },
  {
   "cell_type": "markdown",
   "metadata": {},
   "source": [
    "## Ask the user for the number of decimal places, then print the following output. If the user enters 3, the output will be: \n",
    "\n",
    "The value of pi is 3.142"
   ]
  },
  {
   "cell_type": "code",
   "execution_count": null,
   "metadata": {},
   "outputs": [],
   "source": [
    "import math\n"
   ]
  },
  {
   "cell_type": "code",
   "execution_count": null,
   "metadata": {},
   "outputs": [],
   "source": []
  },
  {
   "cell_type": "markdown",
   "metadata": {},
   "source": [
    "## Ask the user for a big number. If the user enters 1000000 (one million), the output will be:\n",
    "\n",
    "This sure is a big number: 1,000,000\n",
    "\n",
    "This sure is a big number: 1.000000e+06"
   ]
  },
  {
   "cell_type": "code",
   "execution_count": null,
   "metadata": {},
   "outputs": [],
   "source": [
    "big_num = input()"
   ]
  },
  {
   "cell_type": "code",
   "execution_count": null,
   "metadata": {},
   "outputs": [],
   "source": []
  },
  {
   "cell_type": "code",
   "execution_count": null,
   "metadata": {},
   "outputs": [],
   "source": []
  }
 ],
 "metadata": {
  "kernelspec": {
   "display_name": "Python 3 (ipykernel)",
   "language": "python",
   "name": "python3"
  },
  "language_info": {
   "codemirror_mode": {
    "name": "ipython",
    "version": 3
   },
   "file_extension": ".py",
   "mimetype": "text/x-python",
   "name": "python",
   "nbconvert_exporter": "python",
   "pygments_lexer": "ipython3",
   "version": "3.11.5"
  }
 },
 "nbformat": 4,
 "nbformat_minor": 4
}
