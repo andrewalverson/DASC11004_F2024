{
 "cells": [
  {
   "cell_type": "markdown",
   "metadata": {},
   "source": [
    "## understanding `extend`"
   ]
  },
  {
   "cell_type": "code",
   "execution_count": 8,
   "metadata": {},
   "outputs": [],
   "source": [
    "# start fresh with new groups\n",
    "jackson5 = ['jackie', 'tito', 'jermaine', 'marlon', 'michael']\n",
    "destiny  = ['beyonce', 'kelly', 'michelle']\n",
    "top40    = ['taylorswift', 'postmalone']"
   ]
  },
  {
   "cell_type": "code",
   "execution_count": 9,
   "metadata": {
    "tags": []
   },
   "outputs": [
    {
     "name": "stdout",
     "output_type": "stream",
     "text": [
      "['jackie', 'tito', 'jermaine', 'marlon', 'michael', 'beyonce', 'kelly', 'michelle']\n"
     ]
    }
   ],
   "source": [
    "# extend() modifies a list in place, it doesn't return anything\n",
    "jackson5.extend(destiny)\n",
    "print(jackson5)"
   ]
  },
  {
   "cell_type": "markdown",
   "metadata": {},
   "source": [
    "## `append()` adds a single item"
   ]
  },
  {
   "cell_type": "code",
   "execution_count": 11,
   "metadata": {
    "tags": []
   },
   "outputs": [
    {
     "name": "stdout",
     "output_type": "stream",
     "text": [
      "['beyonce', 'kelly', 'michelle', ['george', 'paul', 'john', 'ringo']]\n"
     ]
    }
   ],
   "source": [
    "# use `append()` to add some old men\n",
    "destiny.append(['george', 'paul', 'john', 'ringo'])\n",
    "print(destiny)"
   ]
  },
  {
   "cell_type": "code",
   "execution_count": 17,
   "metadata": {
    "tags": []
   },
   "outputs": [
    {
     "name": "stdout",
     "output_type": "stream",
     "text": [
      "I found Ringo\n",
      "I found Ringo\n"
     ]
    }
   ],
   "source": [
    "# find and print Ringo, who is buried in a list within a list\n",
    "print(f'I found {destiny[-1][-1].capitalize()}')\n",
    "print(f'I found {destiny[3][3].capitalize()}')\n"
   ]
  },
  {
   "cell_type": "markdown",
   "metadata": {},
   "source": [
    "## looping over a list"
   ]
  },
  {
   "cell_type": "code",
   "execution_count": 24,
   "metadata": {
    "tags": []
   },
   "outputs": [
    {
     "name": "stdout",
     "output_type": "stream",
     "text": [
      "here's the destiny list: ['beyonce', 'kelly', 'michelle', ['george', 'paul', 'john', 'ringo']]\n",
      "cat_lady =  beyonce <class 'str'>\n",
      "cat_lady =  kelly <class 'str'>\n",
      "cat_lady =  michelle <class 'str'>\n",
      "cat_lady =  ['george', 'paul', 'john', 'ringo'] <class 'list'>\n"
     ]
    }
   ],
   "source": [
    "# loop over 'destiny'\n",
    "#for <variable> in <list>:\n",
    "#    do something\n",
    "print(\"here's the destiny list:\", destiny)\n",
    "for cat_lady in destiny:\n",
    "    print(\"cat_lady = \", cat_lady, end = ' ')\n",
    "    print(type(cat_lady))"
   ]
  },
  {
   "cell_type": "markdown",
   "metadata": {},
   "source": [
    "## checking the `type()`"
   ]
  },
  {
   "cell_type": "code",
   "execution_count": 26,
   "metadata": {},
   "outputs": [
    {
     "name": "stdout",
     "output_type": "stream",
     "text": [
      "<class 'str'>\n",
      "<class 'list'>\n"
     ]
    }
   ],
   "source": [
    "# what is destiny[1]? destiny[3]?\n",
    "print(type(destiny[1]))\n",
    "print(type(destiny[3]))"
   ]
  },
  {
   "cell_type": "markdown",
   "metadata": {},
   "source": [
    "## loop over a list within a list"
   ]
  },
  {
   "cell_type": "code",
   "execution_count": 27,
   "metadata": {
    "tags": []
   },
   "outputs": [
    {
     "name": "stdout",
     "output_type": "stream",
     "text": [
      "george\n",
      "paul\n",
      "john\n",
      "ringo\n"
     ]
    }
   ],
   "source": [
    "# loop over the old guys in 'destiny'\n",
    "for old_man in destiny[-1]:\n",
    "    print(old_man)"
   ]
  },
  {
   "cell_type": "markdown",
   "metadata": {},
   "source": [
    "## introducing a test"
   ]
  },
  {
   "cell_type": "code",
   "execution_count": 33,
   "metadata": {
    "tags": []
   },
   "outputs": [
    {
     "name": "stdout",
     "output_type": "stream",
     "text": [
      "it's a string: beyonce\n",
      "it's a string: kelly\n",
      "it's a string: michelle\n",
      "it's a list: ['george', 'paul', 'john', 'ringo']\n"
     ]
    }
   ],
   "source": [
    "# what type of variable is this anyway?\n",
    "for i in destiny:\n",
    "    if type(i) is list:\n",
    "        print(\"it's a list:\", i)\n",
    "    else:\n",
    "        print(\"it's a string:\", i)\n",
    "    \n"
   ]
  },
  {
   "cell_type": "markdown",
   "metadata": {},
   "source": [
    "## executing a nested `for` loop"
   ]
  },
  {
   "cell_type": "code",
   "execution_count": 45,
   "metadata": {
    "tags": []
   },
   "outputs": [
    {
     "name": "stdout",
     "output_type": "stream",
     "text": [
      "Destiny's Child number 1 is beyonce\n",
      "x = 2\n",
      "Destiny's Child number 2 is kelly\n",
      "x = 3\n",
      "Destiny's Child number 3 is michelle\n",
      "x = 4\n",
      "Beatle number 1 is george\n",
      "y = 2\n",
      "Beatle number 2 is paul\n",
      "y = 3\n",
      "Beatle number 3 is john\n",
      "y = 4\n",
      "Beatle number 4 is ringo\n",
      "y = 5\n",
      "x = {x}, y = {y}\n",
      "total size of the band is 9\n"
     ]
    }
   ],
   "source": [
    "# loop within a loop\n",
    "\n",
    "# set up some counters\n",
    "x = 1 # number of members in Destiny's Child\n",
    "y = 1 # number of beatles\n",
    "\n",
    "for i in destiny:\n",
    "    if type(i) is list:\n",
    "        for beatle in i:\n",
    "            print(f'Beatle number {y} is {beatle}')\n",
    "            y += 1 # this is the same as x = x + 1\n",
    "            print(f'y = {y}')\n",
    "    else:\n",
    "        print(f'Destiny\\'s Child number {x} is {i}')\n",
    "        x += 1\n",
    "        print(f'x = {x}')\n",
    "print('x = {x}, y = {y}')\n",
    "print(f'total size of the band is {x + y}')\n"
   ]
  },
  {
   "cell_type": "markdown",
   "metadata": {},
   "source": [
    "### retrieve the index _and_ the value with `enumerate()`"
   ]
  },
  {
   "cell_type": "code",
   "execution_count": 47,
   "metadata": {
    "tags": []
   },
   "outputs": [
    {
     "name": "stdout",
     "output_type": "stream",
     "text": [
      "President number 1 was George Washington\n",
      "President number 2 was John Adams\n",
      "President number 3 was Thomas Jefferson\n",
      "President number 4 was James Madison\n",
      "President number 5 was James Monroe\n",
      "President number 6 was John Quincy Adams\n",
      "President number 7 was Andrew Jackson\n",
      "President number 8 was Martin Van Buren\n",
      "President number 9 was William Henry Harrison\n",
      "President number 10 was John Tyler\n",
      "President number 11 was James Knox Polk\n",
      "President number 12 was Zachary Taylor\n",
      "President number 13 was Millard Fillmore\n",
      "President number 14 was Franklin Pierce\n",
      "President number 15 was James Buchanan\n",
      "President number 16 was Abraham Lincoln\n",
      "President number 17 was Andrew Johnson\n",
      "President number 18 was Ulysses S. Grant\n",
      "President number 19 was Rutherford Birchard Hayes\n",
      "President number 20 was James Abram Garfield\n",
      "President number 21 was Chester Alan Arthur\n",
      "President number 22 was Grover Cleveland\n",
      "President number 23 was Benjamin Harrison\n",
      "President number 24 was Grover Cleveland\n",
      "President number 25 was William McKinley\n",
      "President number 26 was Theodore Roosevelt\n",
      "President number 27 was William Howard Taft\n",
      "President number 28 was Woodrow Wilson\n",
      "President number 29 was Warren Gamaliel Harding\n",
      "President number 30 was Calvin Coolidge\n",
      "President number 31 was Herbert Clark Hoover\n",
      "President number 32 was Franklin Delano Roosevelt\n",
      "President number 33 was Harry S. Truman\n",
      "President number 34 was Dwight David Eisenhower\n",
      "President number 35 was John Fitzgerald Kennedy\n",
      "President number 36 was Lyndon Baines Johnson\n",
      "President number 37 was Richard Milhous Nixon\n",
      "President number 38 was Gerald Rudolph Ford\n",
      "President number 39 was James Earl Carter Jr.\n",
      "President number 40 was Ronald Wilson Reagan\n",
      "President number 41 was George Herbert Walker Bush\n",
      "President number 42 was William Jefferson Clinton\n",
      "President number 43 was George Walker Bush\n",
      "President number 44 was Barack Hussein Obama\n",
      "President number 45 was Donald Trump\n",
      "President number 46 was Joe Biden\n"
     ]
    }
   ],
   "source": [
    "# lots of flexibility with enumerate()\n",
    "presidents = [\"George Washington\", \"John Adams\", \"Thomas Jefferson\", \"James Madison\", \"James Monroe\", \"John Quincy Adams\", \"Andrew Jackson\", \"Martin Van Buren\", \"William Henry Harrison\", \"John Tyler\", \"James Knox Polk\", \"Zachary Taylor\", \"Millard Fillmore\", \"Franklin Pierce\", \"James Buchanan\", \"Abraham Lincoln\", \"Andrew Johnson\", \"Ulysses S. Grant\", \"Rutherford Birchard Hayes\", \"James Abram Garfield\", \"Chester Alan Arthur\", \"Grover Cleveland\", \"Benjamin Harrison\", \"Grover Cleveland\", \"William McKinley\", \"Theodore Roosevelt\", \"William Howard Taft\", \"Woodrow Wilson\", \"Warren Gamaliel Harding\", \"Calvin Coolidge\", \"Herbert Clark Hoover\", \"Franklin Delano Roosevelt\", \"Harry S. Truman\", \"Dwight David Eisenhower\", \"John Fitzgerald Kennedy\", \"Lyndon Baines Johnson\", \"Richard Milhous Nixon\", \"Gerald Rudolph Ford\", \"James Earl Carter Jr.\", \"Ronald Wilson Reagan\", \"George Herbert Walker Bush\", \"William Jefferson Clinton\", \"George Walker Bush\", \"Barack Hussein Obama\", \"Donald Trump\", \"Joe Biden\"]\n",
    "\n",
    "for num,name in enumerate(presidents):\n",
    "    print(f'President number {num+1} was {name}')"
   ]
  },
  {
   "cell_type": "markdown",
   "metadata": {},
   "source": [
    "## loop over a string"
   ]
  },
  {
   "cell_type": "code",
   "execution_count": 51,
   "metadata": {
    "tags": []
   },
   "outputs": [
    {
     "name": "stdout",
     "output_type": "stream",
     "text": [
      "W-e-d-n-e-s-d-a-y-"
     ]
    }
   ],
   "source": [
    "today = \"Wednesday\"\n",
    "#print(today[0])\n",
    "#print(today[-2])\n",
    "for letter in today:\n",
    "    print(letter, end = '-')"
   ]
  },
  {
   "cell_type": "code",
   "execution_count": null,
   "metadata": {},
   "outputs": [],
   "source": []
  }
 ],
 "metadata": {
  "kernelspec": {
   "display_name": "Python 3 (ipykernel)",
   "language": "python",
   "name": "python3"
  },
  "language_info": {
   "codemirror_mode": {
    "name": "ipython",
    "version": 3
   },
   "file_extension": ".py",
   "mimetype": "text/x-python",
   "name": "python",
   "nbconvert_exporter": "python",
   "pygments_lexer": "ipython3",
   "version": "3.11.5"
  }
 },
 "nbformat": 4,
 "nbformat_minor": 4
}
