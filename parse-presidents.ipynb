{
 "cells": [
  {
   "cell_type": "markdown",
   "id": "f0eba272-b0c4-4a2a-8ebc-bb77bb952bec",
   "metadata": {},
   "source": [
    "## how to read and parse a file, and how to use a dictionary"
   ]
  },
  {
   "cell_type": "code",
   "execution_count": 2,
   "id": "e7694d01-f650-4e7e-8124-7430519d4f7a",
   "metadata": {},
   "outputs": [],
   "source": [
    "import csv\n",
    "from collections import defaultdict"
   ]
  },
  {
   "cell_type": "code",
   "execution_count": 3,
   "id": "06ea223c-684c-454b-8549-72c0ba50e3e5",
   "metadata": {},
   "outputs": [],
   "source": [
    "# specify the input file\n",
    "infile = '../dasc_11004/data/presidents.csv'"
   ]
  },
  {
   "cell_type": "code",
   "execution_count": 21,
   "id": "77249ccc-6c32-4d30-9360-ad4c8b72b929",
   "metadata": {},
   "outputs": [],
   "source": [
    "# make some dictionaries\n",
    "# key = president, value = party\n",
    "parties = defaultdict(str) # 'str' means that the key is a string\n",
    "\n",
    "# key = party, value = cumulative party count\n",
    "party_count = defaultdict(int) # 'int' means that the key is an integer"
   ]
  },
  {
   "cell_type": "code",
   "execution_count": 22,
   "id": "751875f0-debe-4ba4-83d1-590c05ac548b",
   "metadata": {},
   "outputs": [],
   "source": [
    "# read and parse the file\n",
    "with open(infile, 'r') as file:\n",
    "    # skip the first line\n",
    "    next(file)\n",
    "    \n",
    "    # create a csv reader object\n",
    "    reader = csv.reader(file, delimiter=',')\n",
    "\n",
    "    # now loop over all the lines in the file, which are now essentially in our 'reader' object\n",
    "    for line in reader:\n",
    "        # print(line[1], line[8])\n",
    "        name  = line[1].strip()\n",
    "        party = line[5].strip()\n",
    "        state = line[8].strip()\n",
    "        # print(','.join([name, party, state]))\n",
    "        parties[name] = party\n",
    "        "
   ]
  },
  {
   "cell_type": "code",
   "execution_count": 23,
   "id": "7a52db35-e48e-483f-95c3-b341a745bc9f",
   "metadata": {},
   "outputs": [
    {
     "name": "stdout",
     "output_type": "stream",
     "text": [
      "George Washington: Independent, 1\n",
      "John Adams: Federalist, 1\n",
      "Thomas Jefferson: Democratic-Republican, 1\n",
      "James Madison: Democratic-Republican, 2\n",
      "James Monroe: Democratic-Republican, 3\n",
      "John Quincy Adams: Democratic-Republican/National Republican, 1\n",
      "Andrew Jackson: Democratic, 1\n",
      "Martin Van Buren: Democratic, 2\n",
      "William Henry Harrison: Whig, 1\n",
      "John Tyler: Whig, 2\n",
      "James K. Polk: Democratic, 3\n",
      "Zachary Taylor: Whig, 3\n",
      "Millard Fillmore: Whig, 4\n",
      "Franklin Pierce: Democratic, 4\n",
      "James Buchanan: Democratic, 5\n",
      "Abraham Lincoln: Republican/National Union, 1\n",
      "Andrew Johnson: Democratic/National Union, 1\n",
      "Ulysses S. Grant: Republican, 1\n",
      "Rutherford B. Hayes: Republican, 2\n",
      "James A. Garfield: Republican, 3\n",
      "Chester A. Arthur: Republican, 4\n",
      "Grover Cleveland: Democratic, 6\n",
      "Benjamin Harrison: Republican, 5\n",
      "Grover Cleveland (2nd term): Democratic, 7\n",
      "William McKinley: Republican, 6\n",
      "Theodore Roosevelt: Republican, 7\n",
      "William Howard Taft: Republican, 8\n",
      "Woodrow Wilson: Democratic, 8\n",
      "Warren G. Harding: Republican, 9\n",
      "Calvin Coolidge: Republican, 10\n",
      "Herbert Hoover: Republican, 11\n",
      "Franklin D. Roosevelt: Democratic, 9\n",
      "Harry S. Truman: Democratic, 10\n",
      "Dwight D. Eisenhower: Republican, 12\n",
      "John F. Kennedy: Democratic, 11\n",
      "Lyndon B. Johnson: Democratic, 12\n",
      "Richard Nixon: Republican, 13\n",
      "Gerald Ford: Republican, 14\n",
      "Jimmy Carter: Democratic, 13\n",
      "Ronald Reagan: Republican, 15\n",
      "George H. W. Bush: Republican, 16\n",
      "Bill Clinton: Democratic, 14\n",
      "George W. Bush: Republican, 17\n",
      "Barack Obama: Democratic, 15\n"
     ]
    }
   ],
   "source": [
    "# read the dictionary to generate some output\n",
    "for pres, party in parties.items():\n",
    "    # increment the party count each time you encounter it\n",
    "    # the initial value is 'None', so adding 1 to 'None' would give a key error unless using defaultdict\n",
    "    party_count[party] += 1\n",
    "\n",
    "    print(f'{pres}: {party}, {party_count[party]}')\n",
    "\n",
    "#for pres in parties.keys():\n",
    "#    print(f'{pres}: {parties[pres]}')"
   ]
  },
  {
   "cell_type": "code",
   "execution_count": null,
   "id": "f348d322-a209-40ef-b260-1ef6b25134e4",
   "metadata": {},
   "outputs": [],
   "source": []
  }
 ],
 "metadata": {
  "kernelspec": {
   "display_name": "Python 3 (ipykernel)",
   "language": "python",
   "name": "python3"
  },
  "language_info": {
   "codemirror_mode": {
    "name": "ipython",
    "version": 3
   },
   "file_extension": ".py",
   "mimetype": "text/x-python",
   "name": "python",
   "nbconvert_exporter": "python",
   "pygments_lexer": "ipython3",
   "version": "3.11.5"
  }
 },
 "nbformat": 4,
 "nbformat_minor": 5
}
