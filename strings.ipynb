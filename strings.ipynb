{
 "cells": [
  {
   "cell_type": "markdown",
   "metadata": {},
   "source": [
    "## Understanding `print()`\n",
    "\n",
    "  - THIS SECTION IS ALL ABOUT PRINTING"
   ]
  },
  {
   "cell_type": "code",
   "execution_count": 1,
   "metadata": {
    "tags": []
   },
   "outputs": [
    {
     "name": "stdout",
     "output_type": "stream",
     "text": [
      "hello world\n",
      "hello world\n"
     ]
    }
   ],
   "source": [
    "# hello world\n",
    "print(\"hello world\")\n",
    "print('hello world')"
   ]
  },
  {
   "cell_type": "markdown",
   "metadata": {},
   "source": [
    "### Printing quotation marks\n",
    "\n",
    "##### Write two print statements that give the following output:\n",
    "\n",
    "She said, 'hello world'\n",
    "\n",
    "She said, \"hello world\"\n"
   ]
  },
  {
   "cell_type": "code",
   "execution_count": 2,
   "metadata": {
    "tags": []
   },
   "outputs": [
    {
     "name": "stdout",
     "output_type": "stream",
     "text": [
      "She said, 'hello world'\n",
      "She said, \"hello world\"\n",
      "She said, 'hello world'\n"
     ]
    }
   ],
   "source": [
    "print(\"She said, 'hello world'\")\n",
    "print('She said, \"hello world\"')\n",
    "print('She said, \\'hello world\\'')"
   ]
  },
  {
   "cell_type": "markdown",
   "metadata": {},
   "source": [
    "### Store and print a variable"
   ]
  },
  {
   "cell_type": "code",
   "execution_count": 3,
   "metadata": {
    "tags": []
   },
   "outputs": [
    {
     "name": "stdout",
     "output_type": "stream",
     "text": [
      "bobbob\n",
      "\n",
      "---- printing lists ----\n",
      "\n",
      "bob dylan\n",
      "bob dylan is really old!\n",
      "bob dylan is really old!\n",
      "<class 'str'>\n",
      "<class 'str'>\n"
     ]
    }
   ],
   "source": [
    "# define some strings\n",
    "first = 'bob'\n",
    "last = 'dylan'\n",
    "\n",
    "# concatenate those strings\n",
    "full = first + ' ' + last\n",
    "\n",
    "# print the strings\n",
    "# print without a newline\n",
    "print(first, end='')\n",
    "# print with an extra newline\n",
    "print(first + '\\n')\n",
    "\n",
    "print(\"---- printing lists ----\")\n",
    "print() # prints just a new line\n",
    "\n",
    "# print() takes a list\n",
    "print(first, last)\n",
    "print(first, last, \"is really old!\")\n",
    "\n",
    "# more onerous with concatenation\n",
    "print(first + ' ' + last + ' ' + 'is really old!')\n",
    "\n",
    "# what type of variable is this anyway?\n",
    "print(type(first))\n",
    "print(type(full))\n"
   ]
  },
  {
   "cell_type": "markdown",
   "metadata": {},
   "source": [
    "### Get the length of a string"
   ]
  },
  {
   "cell_type": "code",
   "execution_count": 4,
   "metadata": {
    "tags": []
   },
   "outputs": [
    {
     "name": "stdout",
     "output_type": "stream",
     "text": [
      "name length of bob dylan is 9\n",
      "length of name: 9\n",
      "9\n",
      "there are 9 characters in Bob Dylan's name.\n",
      "there are 9 characters in Bob Dylan's name.\n",
      "there are 9 characters in Bob Dylan's name.\n"
     ]
    }
   ],
   "source": [
    "# the long (but readable) way\n",
    "name_length = len(full)\n",
    "print(\"name length of\", full, \"is\", name_length)\n",
    "\n",
    "# a more concise way to do it, functions within functions\n",
    "print(\"length of name:\", len(full))\n",
    "print(len(full))\n",
    "\n",
    "# a formatted print\n",
    "print(f'there are {name_length} characters in Bob Dylan\\'s name.')\n",
    "print(f\"there are {name_length} characters in Bob Dylan\\'s name.\")\n",
    "my_string = f\"there are {name_length} characters in Bob Dylan\\'s name.\"\n",
    "print(my_string)"
   ]
  },
  {
   "cell_type": "markdown",
   "metadata": {},
   "source": [
    "## Printing strings and numbers"
   ]
  },
  {
   "cell_type": "markdown",
   "metadata": {},
   "source": [
    "### If x = 7 and y = \"7\", using both x and y, write two print statements to print \"77\" and \"14\" as the output"
   ]
  },
  {
   "cell_type": "code",
   "execution_count": 5,
   "metadata": {},
   "outputs": [
    {
     "name": "stdout",
     "output_type": "stream",
     "text": [
      "x: <class 'int'>\n",
      "y: <class 'str'>\n",
      "77\n",
      "14\n"
     ]
    }
   ],
   "source": [
    "x = 7\n",
    "y = \"7\"\n",
    "print(\"x:\", type(x))\n",
    "print(\"y:\", type(y))\n",
    "\n",
    "# print 77\n",
    "print(str(x) + y)\n",
    "\n",
    "# print 14\n",
    "print(x + int(y))"
   ]
  },
  {
   "cell_type": "markdown",
   "metadata": {},
   "source": [
    "## Some operations on strings"
   ]
  },
  {
   "cell_type": "code",
   "execution_count": 11,
   "metadata": {
    "tags": []
   },
   "outputs": [
    {
     "name": "stdin",
     "output_type": "stream",
     "text": [
      "Enter a name:  bob\n"
     ]
    }
   ],
   "source": [
    "# methods to change the case of a string\n",
    "name = input(\"Enter a name: \")\n",
    "\n"
   ]
  },
  {
   "cell_type": "code",
   "execution_count": 15,
   "metadata": {},
   "outputs": [
    {
     "name": "stdout",
     "output_type": "stream",
     "text": [
      "bob\n",
      "BOB\n",
      "bob\n",
      "Here's the stored name, properly captialized: Bob\n"
     ]
    }
   ],
   "source": [
    "print(name)\n",
    "print(name.upper())\n",
    "print(name.lower())\n",
    "first_name = name.lower().capitalize()\n",
    "print(\"Here's the stored name, properly captialized:\", first_name)"
   ]
  },
  {
   "cell_type": "markdown",
   "metadata": {},
   "source": [
    "## Ask the user for the number of decimal places in pi, then print the requested output. If the user enters 3, the output will be: \n",
    "\n",
    "The value of pi is 3.142"
   ]
  },
  {
   "cell_type": "code",
   "execution_count": 23,
   "metadata": {},
   "outputs": [
    {
     "name": "stdin",
     "output_type": "stream",
     "text": [
      "Enter the desired number of decimal places:  9\n"
     ]
    }
   ],
   "source": [
    "import math\n",
    "# print(math.pi)\n",
    "num_dec = input(\"Enter the desired number of decimal places: \")"
   ]
  },
  {
   "cell_type": "code",
   "execution_count": 24,
   "metadata": {},
   "outputs": [
    {
     "name": "stdout",
     "output_type": "stream",
     "text": [
      "The value of pi is 3.1416\n",
      "The value of pi is 3.141592654\n"
     ]
    }
   ],
   "source": [
    "print(f'The value of pi is {math.pi:.4f}') # hard coded\n",
    "print(f'The value of pi is {math.pi:.{num_dec}f}') # using our variable"
   ]
  },
  {
   "cell_type": "markdown",
   "metadata": {},
   "source": [
    "## Ask the user for a big number. If the user enters 1000000 (one million), the output will be:\n",
    "\n",
    "This sure is a big number: 1,000,000\n",
    "\n",
    "This sure is a big number: 1.000000e+06"
   ]
  },
  {
   "cell_type": "code",
   "execution_count": 29,
   "metadata": {},
   "outputs": [
    {
     "name": "stdin",
     "output_type": "stream",
     "text": [
      " 10000000000\n"
     ]
    },
    {
     "name": "stdout",
     "output_type": "stream",
     "text": [
      "This sure is a big number: 10,000,000,000\n",
      "This sure is a big number: 1.000000e+10\n"
     ]
    }
   ],
   "source": [
    "big_num = int(input())\n",
    "print(f'This sure is a big number: {big_num:,d}')\n",
    "print(f'This sure is a big number: {big_num:e}')"
   ]
  },
  {
   "cell_type": "markdown",
   "metadata": {},
   "source": []
  },
  {
   "cell_type": "markdown",
   "metadata": {},
   "source": [
    "## Write a program that asks for the user's name and age, and then prints a personalized greeting using string formatting.\n",
    "\n",
    "For **Andy** and **32**, output would be:\n",
    "\n",
    "Hello, Andy! You are 32 years old."
   ]
  },
  {
   "cell_type": "code",
   "execution_count": null,
   "metadata": {},
   "outputs": [],
   "source": []
  },
  {
   "cell_type": "markdown",
   "metadata": {},
   "source": [
    "## Write a program that takes two numbers as input, multiplies them, and prints the results to two decimal places in a formatted string.\n",
    "\n",
    "For **1.7** and **2.5**, the output would be:\n",
    "\n",
    "The product of 1.7 and 2.53 is 4.31."
   ]
  },
  {
   "cell_type": "code",
   "execution_count": null,
   "metadata": {},
   "outputs": [],
   "source": []
  },
  {
   "cell_type": "markdown",
   "metadata": {},
   "source": [
    "## Write a program that takes an item name, quantity, and price, then prints a formatted invoice.\n",
    "\n",
    "For item \"Junior Kimbrough record\", quantity 2, and 10 (price), the output would be:\n",
    "\n",
    "Item: Junior Kimbrough record \n",
    "\n",
    "Qty: 2 \n",
    "\n",
    "Price: $10\n",
    "\n",
    "Total: $20"
   ]
  },
  {
   "cell_type": "code",
   "execution_count": 34,
   "metadata": {},
   "outputs": [
    {
     "name": "stdout",
     "output_type": "stream",
     "text": [
      "Item: Junior Kimbrough record\n",
      "Qty: 2\n",
      "Price: $10\n",
      "Total: $20\n"
     ]
    }
   ],
   "source": [
    "item  = 'Junior Kimbrough record'\n",
    "qty   = 2\n",
    "price = 10\n",
    "\n",
    "print(f'Item: {item}\\nQty: {qty}\\nPrice: ${price}\\nTotal: ${qty*price}')"
   ]
  },
  {
   "cell_type": "code",
   "execution_count": null,
   "metadata": {},
   "outputs": [],
   "source": []
  }
 ],
 "metadata": {
  "kernelspec": {
   "display_name": "Python 3 (ipykernel)",
   "language": "python",
   "name": "python3"
  },
  "language_info": {
   "codemirror_mode": {
    "name": "ipython",
    "version": 3
   },
   "file_extension": ".py",
   "mimetype": "text/x-python",
   "name": "python",
   "nbconvert_exporter": "python",
   "pygments_lexer": "ipython3",
   "version": "3.11.5"
  }
 },
 "nbformat": 4,
 "nbformat_minor": 4
}
