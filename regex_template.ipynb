{
 "cells": [
  {
   "cell_type": "markdown",
   "metadata": {},
   "source": [
    "## A story about Katherine\n",
    "\n",
    "**Katherine** went to the concert to see '**Catheryn** and the **Cathryns**'. She ran into her friend **Kathryn**, who introduced **Katherine** to her friend **Catherine**. Together, they enjoyed the concert while texting inaudible snippets to their mutual friend, **Kathrin**. Their mercurial friend, **katharine**, felt left out.\n",
    "\n",
    "#### Find all instances of \"Katherine\""
   ]
  },
  {
   "cell_type": "code",
   "execution_count": 1,
   "metadata": {},
   "outputs": [],
   "source": [
    "story = \"Katherine went to the concert to see 'Catheryn and the Cathryns'. She ran into her friend Kathryn, who introduced Katherine to her friend Catherine. Together, they enjoyed the concert while texting inaudible snippets to their mutual friend, Kathrin. Their mercurial friend, katharine, cried in the bathtub\""
   ]
  },
  {
   "cell_type": "code",
   "execution_count": 4,
   "metadata": {},
   "outputs": [
    {
     "name": "stdout",
     "output_type": "stream",
     "text": [
      "['Katherine', 'Catheryn', 'Cathryns', 'Kathryn', 'Katherine', 'Catherine', 'Kathrin', 'katharine']\n",
      "8\n"
     ]
    }
   ],
   "source": [
    "import re\n",
    "attempt1 = re.compile('[ck]+ath[aey]?r[eiy]ne*\\w*', re.I)\n",
    "match1 = re.findall(attempt1, story)\n",
    "print(match1)\n",
    "print(len(match1))"
   ]
  },
  {
   "cell_type": "code",
   "execution_count": 5,
   "metadata": {},
   "outputs": [
    {
     "name": "stdout",
     "output_type": "stream",
     "text": [
      "['Katherine', 'Catheryn', 'Cathryns', 'Kathryn', 'Katherine', 'Catherine', 'Kathrin', 'katharine']\n",
      "8\n"
     ]
    }
   ],
   "source": [
    "attempt2 = re.compile('[ck]ath\\w+', re.I)\n",
    "match2 = re.findall(attempt2, story)\n",
    "print(match2)\n",
    "print(len(match2))"
   ]
  },
  {
   "cell_type": "markdown",
   "metadata": {},
   "source": [
    "## Load Python's `re` module\n",
    "\n",
    "- Regular expression functions are not loaded by default\n",
    "- Need to load the `re` module at the beginning of your script"
   ]
  },
  {
   "cell_type": "code",
   "execution_count": 6,
   "metadata": {},
   "outputs": [],
   "source": [
    "import re"
   ]
  },
  {
   "cell_type": "markdown",
   "metadata": {},
   "source": [
    "## Regular expressions\n",
    "- A regular expression, or _pattern_, is a construct that either matches – or doesn't match – all of or, more typically, part of a string\n",
    "- String matching is an all or nothing proposition\n",
    "    - matches return a match object that we can work with\n",
    "    - non-matches return None, which evaluates as False"
   ]
  },
  {
   "cell_type": "markdown",
   "metadata": {},
   "source": [
    "## Regular expressions are often embedded within conditionals\n",
    "\n",
    "if re.search(\"pattern\", string): do something else: do something different"
   ]
  },
  {
   "cell_type": "markdown",
   "metadata": {},
   "source": [
    "## Exact matches are trivial"
   ]
  },
  {
   "cell_type": "code",
   "execution_count": 9,
   "metadata": {},
   "outputs": [
    {
     "name": "stdout",
     "output_type": "stream",
     "text": [
      "Found a match!\n"
     ]
    }
   ],
   "source": [
    "artist = 'Alicia.Keys'\n",
    "if(re.search('Key', artist)):\n",
    "    print(\"Found a match!\")"
   ]
  },
  {
   "cell_type": "markdown",
   "metadata": {},
   "source": [
    "## Metacharacters\n",
    "   - special characters (metacharacters) and character classes to help you search for more complex patterns\n",
    "   - **character class**: a list of possible characters inside square brackets [ ]\n",
    "   - matches any single character within the class\n",
    "\n",
    "        - [ACGTacgt]\n",
    "        - [abcwxyz6789]\n",
    "        - [a-cw-z6-9]\n",
    "        - [ \\t\\n]\n",
    "\n",
    "---\n",
    "\n",
    "   - you can negate a character class to look for everything **but** the characters in your character class\n",
    "        - [^ACGTacgt] (does my DNA sequence have non-nucleotide characters?)\n",
    "        - [^ \\t\\n]"
   ]
  },
  {
   "cell_type": "code",
   "execution_count": 10,
   "metadata": {},
   "outputs": [
    {
     "name": "stdout",
     "output_type": "stream",
     "text": [
      "Alicia.Keys\n",
      "<re.Match object; span=(0, 1), match='A'>\n"
     ]
    }
   ],
   "source": [
    "# find any uppercase letter\n",
    "match = re.search(\"[A-Z]\", artist)\n",
    "\n",
    "# print the match (object)\n",
    "print(artist)\n",
    "print(match)"
   ]
  },
  {
   "cell_type": "markdown",
   "metadata": {},
   "source": [
    "## How to find all the matches in a string"
   ]
  },
  {
   "cell_type": "code",
   "execution_count": 12,
   "metadata": {},
   "outputs": [
    {
     "name": "stdout",
     "output_type": "stream",
     "text": [
      "['R', 'N', 'N', 'N', 'N', 'N', 'N', 'N', 'N', 'N', 'N', 'N', 'N', 'N', 'N', 'N', 'N', 'N', 'N', 'N', 'N', 'N', 'N', 'N', 'N', 'N', 'N']\n",
      "R\n",
      "26\n",
      "0.7647058823529411\n"
     ]
    }
   ],
   "source": [
    "dna = 'ACGTRTAANNNNNNNNNNNNNNNNNNNNNNNNNN'\n",
    "match = re.findall(\"[^ACGT]\", dna)\n",
    "\n",
    "# the match is returned in a list\n",
    "print(match)\n",
    "\n",
    "# print the first match\n",
    "print(match[0])\n",
    "print(match.count('N'))\n",
    "print(match.count('N')/len(dna))"
   ]
  },
  {
   "cell_type": "markdown",
   "metadata": {},
   "source": [
    "## Character class shortcuts\n",
    "\n",
    "| Shortcut | Character class | Description                |\n",
    "| :------: | :-------------- | :------------------------- |\n",
    "| \\d       | [0-9]           | a digit                    |\n",
    "| \\D       | [^0-9]          | a non-digit                |\n",
    "| \\s       | [ \\t\\n\\r\\f]     | a whitespace character     |\n",
    "| \\S       | [^ \\t\\n\\r\\f]    | a non-whitespace character |\n",
    "| \\w       | [a-zA-Z0-9]     | a 'word' character         |\n",
    "| \\W       | [^a-zA-Z0-9]    | a 'non-word' character     |\n"
   ]
  },
  {
   "cell_type": "markdown",
   "metadata": {},
   "source": [
    "## Find non-word characters"
   ]
  },
  {
   "cell_type": "code",
   "execution_count": 16,
   "metadata": {},
   "outputs": [
    {
     "name": "stdout",
     "output_type": "stream",
     "text": [
      "&\n",
      "&\n",
      "\\\n",
      "-\n",
      "-\n",
      "-\n",
      "-\n",
      "\\\n",
      "\\\n",
      "\\\n",
      "\\\n",
      "-\n",
      "\\\n"
     ]
    }
   ],
   "source": [
    "my_string = 'AcgTaaC&&9\\\\t----653\\\\\\\\\\\\\\\\-\\\\n'\n",
    "match = re.findall(\"[\\W'\\']\", my_string)\n",
    "\n",
    "for i in match:\n",
    "    print(i)"
   ]
  },
  {
   "cell_type": "markdown",
   "metadata": {},
   "source": [
    "## Metacharacters\n",
    "\n",
    "These characters serve a function when used in regular expressions: \n",
    "\n",
    "        \\  |  (  )  [  ]  {  }  ^  $  *  +  ?  ."
   ]
  },
  {
   "cell_type": "markdown",
   "metadata": {
    "jp-MarkdownHeadingCollapsed": true
   },
   "source": [
    "## The dot `.` is a wildcard character that matches any ONE character except a newline"
   ]
  },
  {
   "cell_type": "code",
   "execution_count": 30,
   "metadata": {},
   "outputs": [
    {
     "name": "stdout",
     "output_type": "stream",
     "text": [
      "Alicia KeRs\n",
      "Alicia \n",
      "KeRs\n",
      "Ke\n"
     ]
    }
   ],
   "source": [
    "artist = 'Alicia Augello Ke8s Alicia KeRs'\n",
    "match = re.search(\"(Alicia )((Ke).s)\", artist)\n",
    "\n",
    "# print the entire match\n",
    "print(match.group(0))\n",
    "\n",
    "# print the part of the match we told it to capture\n",
    "print(match.group(1))\n",
    "print(match.group(2))\n",
    "print(match.group(3))"
   ]
  },
  {
   "cell_type": "markdown",
   "metadata": {
    "jp-MarkdownHeadingCollapsed": true
   },
   "source": [
    "## Adding quantifiers: the \"any old junk\" construct\n",
    "- the `.` matches any character except a newline\n",
    "- the `*` means \"match the preceding character or character class 0 or more times\", i.e., it's optional"
   ]
  },
  {
   "cell_type": "code",
   "execution_count": 31,
   "metadata": {},
   "outputs": [
    {
     "name": "stdout",
     "output_type": "stream",
     "text": [
      "Full match: Alicia GoBBlee44444444444444444444Goo&&K==Keys\n",
      "Captured:[ GoBBlee44444444444444444444Goo&&K==]\n"
     ]
    }
   ],
   "source": [
    "artist = 'Alicia GoBBlee44444444444444444444Goo&&K==Keys is the best'\n",
    "match = re.search(\"Alicia(.*)Keys\", artist)\n",
    "if match:\n",
    "    print(\"Full match:\", match.group(0))\n",
    "    print(\"Captured:\" + \"[\" + match.group(1) + \"]\")\n",
    "else:\n",
    "    print(\"No match\")"
   ]
  },
  {
   "cell_type": "markdown",
   "metadata": {},
   "source": [
    "## A more narrowly defined quantifier: `?`\n",
    "- `?` means \"match the preceding character or character class ZERO or ONE times\""
   ]
  },
  {
   "cell_type": "code",
   "execution_count": 36,
   "metadata": {},
   "outputs": [
    {
     "name": "stdout",
     "output_type": "stream",
     "text": [
      "Alicia\t\t    \t\t\tKeys\n",
      "Alicia  Keys\n"
     ]
    }
   ],
   "source": [
    "artist = 'Alicia\\t\\t    \\t\\t\\tKeys'\n",
    "match = re.search(\"Alicia\\s*Keys\", artist)  # does it match?\n",
    "print(match.group(0))\n",
    "\n",
    "artist = 'Alicia  Keys'\n",
    "match = re.search(\"Alicia\\s*Keys\", artist)  # does it match?\n",
    "print(match.group(0))"
   ]
  },
  {
   "cell_type": "markdown",
   "metadata": {},
   "source": [
    "## A more narrowly defined quantifier: `+`\n",
    "- `+` means \"match the preceding character or character class one or more times\"\n",
    "- we can use standard functions to measure the match length"
   ]
  },
  {
   "cell_type": "code",
   "execution_count": 38,
   "metadata": {},
   "outputs": [
    {
     "name": "stdout",
     "output_type": "stream",
     "text": [
      "Full match: Allllllllllllll\n",
      "There are 1 l's: Allllllllllllll\n"
     ]
    }
   ],
   "source": [
    "artist = 'Allllllllllllllicia Keys'\n",
    "match = re.search(\"A(l)+\", artist)\n",
    "if match:\n",
    "    print(\"Full match:\", match.group(0))\n",
    "    print(\"There are\", len(match.group(1)), \"l's:\", match.group(0))\n",
    "else:\n",
    "    print(\"No match\")"
   ]
  },
  {
   "cell_type": "markdown",
   "metadata": {},
   "source": [
    "## Use parentheses to make precise, multi-character matches and captures\n",
    "- surround the pattern you want to quantify in parentheses\n",
    "- the entire unit in parentheses is evaluated by the quantifier \n",
    "\n",
    "### In this example, we want to match and capture an entire word, or string, rather than a single character"
   ]
  },
  {
   "cell_type": "code",
   "execution_count": 39,
   "metadata": {},
   "outputs": [
    {
     "name": "stdout",
     "output_type": "stream",
     "text": [
      "Full match: AliciaAliciaAliciaAlicia\n",
      "Captured: Alicia\n"
     ]
    }
   ],
   "source": [
    "artist = 'AliciaAliciaAliciaAliciaAlicaKeys'\n",
    "match = re.search(\"(Alicia)+\", artist)\n",
    "if match:\n",
    "    print(\"Full match:\", match.group(0))\n",
    "    print(\"Captured:\", match.group(1))\n",
    "else:\n",
    "    print(\"No match\")"
   ]
  },
  {
   "cell_type": "markdown",
   "metadata": {},
   "source": [
    "## A general, defined quantifier: `{}`"
   ]
  },
  {
   "cell_type": "code",
   "execution_count": 43,
   "metadata": {},
   "outputs": [
    {
     "name": "stdout",
     "output_type": "stream",
     "text": [
      "Full match: AliciaAliciaAliciaAliciaAliciaAliciaAliciaAliciaAliciaAlicia\n",
      "Captured: Alicia\n"
     ]
    }
   ],
   "source": [
    "artist = 'AliciaAliciaAliciaAliciaAliciaAliciaAliciaAliciaAliciaAlicia Keys'\n",
    "match = re.search(\"(Alicia){2,12}\", artist)\n",
    "if match:\n",
    "    print(\"Full match:\", match.group(0))\n",
    "    print(\"Captured:\", match.group(1))\n",
    "else:\n",
    "    print(\"No match:\", match)"
   ]
  },
  {
   "cell_type": "markdown",
   "metadata": {},
   "source": [
    "## `*`, `+`, and `{}` are greedy, meaning that they match as much as they possibly can\n",
    "\n",
    "`artist = 'Alicia GoBBleeGoo&&K==Keys'`\n",
    "\n",
    "### These two behave the same:\n",
    "   - `re.search(\"Alicia.*Keys\", artist)`\n",
    "   - `re.search(\"Alicia.+Keys\", artist)`\n",
    "\t\n",
    "### The regular expression algorithm does the following:\n",
    "1. Matches **Alicia**\n",
    "1. Matches everything through **Keys** (the \"greedy\" part)\n",
    "1. Backtracks one letter at a time (**s**→**y**→**e**→**K**) until the last part of the regular expression (**Keys**) matches"
   ]
  },
  {
   "cell_type": "markdown",
   "metadata": {},
   "source": [
    "## Greedy vs. Non-greedy Quantifiers"
   ]
  },
  {
   "cell_type": "code",
   "execution_count": null,
   "metadata": {},
   "outputs": [],
   "source": [
    "artist = \"<BOLD>Holy moly</BOLD>, it's <BOLD>Alicia Keys</BOLD>\"\n",
    "\n",
    "# grab 'Holy moly' from this HTML string\n",
    "match = re.search(\"\", artist)\n",
    "if match:\n",
    "    print(\"Found a match:\" + \"[\" + match.group(1) + \"]\")\n",
    "else:\n",
    "    print(\"No match:\", match)"
   ]
  },
  {
   "cell_type": "markdown",
   "metadata": {},
   "source": [
    "## Making the `*`, `+`, and `{}` quantifiers non-greedy with `?`"
   ]
  },
  {
   "cell_type": "code",
   "execution_count": null,
   "metadata": {},
   "outputs": [],
   "source": [
    "# add ? to make *, +, and {} NON-GREEDY\n",
    "artist = \"<BOLD>Holy moly</BOLD>, it's <BOLD>Alicia Keys</BOLD>. <BOLD>Wow</BOLD> \"\n",
    "match = re.findall(\"\", artist)\n",
    "\n",
    "for i in match:\n",
    "    print(i)\n",
    "\n",
    "\n",
    "#if match:\n",
    "#    print(\"Found a match:\" + \"[\" + match.group(1) + \"]\")\n",
    "#else:\n",
    "#    print(\"No match:\", match)"
   ]
  },
  {
   "cell_type": "markdown",
   "metadata": {},
   "source": [
    "### `?` completely alters the matching algorithm\n",
    "1. Matches \\<BOLD\\>\n",
    "1. Moves right, _reluctantly_ matching one character at a time\n",
    "1. After each character match, try to let the rest of the pattern (\\</BOLD\\>) match\n",
    "1. Stop once all 7 characters in \\</BOLD\\> have matched"
   ]
  },
  {
   "cell_type": "markdown",
   "metadata": {},
   "source": [
    "## Understand the behavior of `*`\n",
    "\n",
    "### Does this match? Why?"
   ]
  },
  {
   "cell_type": "code",
   "execution_count": null,
   "metadata": {},
   "outputs": [],
   "source": [
    "artist = 'Beyonce'\n",
    "match = re.search(\"\", artist)\n",
    "if match:\n",
    "    print(\"Full match:\", match.group(0))\n",
    "    print(\"Captured:\", match.group(1))\n",
    "else:\n",
    "    print(\"No match\")"
   ]
  },
  {
   "cell_type": "markdown",
   "metadata": {},
   "source": [
    "## This example shows how to use a character class and how to capture parts of a match\n",
    "1. the entire match is captured in group 0\n",
    "2. you capture part of a match by putting it in parentheses\n",
    "3. you can capture multiple parts of the match\n",
    "    - captures are numbered by the nesting of the parentheses (1 - n)\n",
    "    - innermost is 1, outermost is n"
   ]
  },
  {
   "cell_type": "code",
   "execution_count": null,
   "metadata": {},
   "outputs": [],
   "source": [
    "queenB = \"Beyonce    Know&&l12es\"\n",
    "match = re.search(\"\", queenB, re.I)\n",
    "if match:\n",
    "    print(\"capture 0:\", match.group(0))\n",
    "    print(\"capture 1:\", match.group(1))\n",
    "    print(\"capture 2:\", match.group(2))\n",
    "else:\n",
    "    print(\"No match\")"
   ]
  },
  {
   "cell_type": "markdown",
   "metadata": {},
   "source": [
    "## Either/or matching if you're not picky"
   ]
  },
  {
   "cell_type": "code",
   "execution_count": null,
   "metadata": {},
   "outputs": [],
   "source": [
    "# either, or\n",
    "artist = 'Alicia'\n",
    "match = re.search(\"\", artist)\n",
    "if match:\n",
    "    print(\"Found an artist:\", match.group(0))\n",
    "else:\n",
    "    print(\"No match:\", match)"
   ]
  },
  {
   "cell_type": "markdown",
   "metadata": {},
   "source": [
    "## There are lots of modifiers that can be added to your regular expressions\n",
    "- `re.I` allows for case-insensitive matching"
   ]
  },
  {
   "cell_type": "code",
   "execution_count": null,
   "metadata": {},
   "outputs": [],
   "source": [
    "artist = 'Alicia Keys'\n",
    "match = re.search(\"\", artist, re.I)\n",
    "if match:\n",
    "    print(\"Found a match:\", match.group())\n",
    "else:\n",
    "    print(\"No match:\", match)"
   ]
  },
  {
   "cell_type": "markdown",
   "metadata": {},
   "source": [
    "## Using variables inside regular expressions"
   ]
  },
  {
   "cell_type": "code",
   "execution_count": null,
   "metadata": {},
   "outputs": [],
   "source": [
    "cat1 = 'Peaches'\n",
    "fact = 'We love ' + cat1\n",
    "print(fact)\n",
    "\n",
    "pat = re.compile(cat1)\n",
    "print(pat)\n",
    "match = pat.search(fact, re.I)\n",
    "if match:\n",
    "    print(match.group(0))"
   ]
  },
  {
   "cell_type": "markdown",
   "metadata": {},
   "source": [
    "# THE END"
   ]
  }
 ],
 "metadata": {
  "anaconda-cloud": {},
  "kernelspec": {
   "display_name": "Python 3 (ipykernel)",
   "language": "python",
   "name": "python3"
  },
  "language_info": {
   "codemirror_mode": {
    "name": "ipython",
    "version": 3
   },
   "file_extension": ".py",
   "mimetype": "text/x-python",
   "name": "python",
   "nbconvert_exporter": "python",
   "pygments_lexer": "ipython3",
   "version": "3.11.5"
  }
 },
 "nbformat": 4,
 "nbformat_minor": 4
}
