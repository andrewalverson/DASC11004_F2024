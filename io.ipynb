{
 "cells": [
  {
   "cell_type": "markdown",
   "metadata": {},
   "source": [
    "## Reading and writing files"
   ]
  },
  {
   "cell_type": "code",
   "execution_count": null,
   "metadata": {
    "tags": []
   },
   "outputs": [],
   "source": [
    "# put the filename – and path if necessary – in a variable\n",
    "\n",
    "# windows, or if the file is in your working directory\n",
    "# filename = \"covid.fasta\"\n",
    "\n",
    "# mac (andy); relative path, the whole thing is in a string\n",
    "filename = \"../dasc_11004/data/covid_genome/covid.fasta\"\n",
    "\n",
    "# mac or linux virtual environment (you)\n",
    "# filename = \"../data/covid_genome/covid.fasta\"\n",
    "\n",
    "# open the file\n",
    "genome = open(filename, 'r')\n",
    "#genome = open(\"../dasc_11004/data/covid_genome/covid.fasta\", 'r')\n",
    "\n",
    "# we created a variable ('genome') when we opened the file: what is it?\n",
    "print(type(genome))"
   ]
  },
  {
   "cell_type": "markdown",
   "metadata": {},
   "source": [
    "### Reading a file with `read()`"
   ]
  },
  {
   "cell_type": "code",
   "execution_count": null,
   "metadata": {
    "tags": [
     "outputPrepend"
    ]
   },
   "outputs": [],
   "source": [
    "# we interact with the file through the file handle, called 'genome'\n",
    "\n",
    "# read the file\n",
    "# read() reads in the entire file in one variable, in this case 'dna_sequence'\n",
    "dna_sequence = genome.read()\n",
    "print(dna_sequence)"
   ]
  },
  {
   "cell_type": "code",
   "execution_count": null,
   "metadata": {},
   "outputs": [],
   "source": [
    "# close the file\n",
    "genome.close()\n",
    "print(dna_sequence)"
   ]
  },
  {
   "cell_type": "code",
   "execution_count": null,
   "metadata": {},
   "outputs": [],
   "source": [
    "# let's read the file again\n",
    "dna = genome.read()"
   ]
  },
  {
   "cell_type": "markdown",
   "metadata": {},
   "source": [
    "### Opening a file with `with()`"
   ]
  },
  {
   "cell_type": "code",
   "execution_count": 14,
   "metadata": {},
   "outputs": [],
   "source": [
    "# another way to read a file\n",
    "fruit_file = '../dasc_11004/data/fruit.txt'\n",
    "with open(fruit_file) as fruit_data:\n",
    "    data = fruit_data.read()"
   ]
  },
  {
   "cell_type": "code",
   "execution_count": null,
   "metadata": {
    "tags": []
   },
   "outputs": [],
   "source": [
    "print('--begin--')\n",
    "print(data)\n",
    "print('--end--')"
   ]
  },
  {
   "cell_type": "code",
   "execution_count": null,
   "metadata": {},
   "outputs": [],
   "source": [
    "# files opened with with() are automatically closed\n",
    "dat = fruit_data.read()"
   ]
  },
  {
   "cell_type": "markdown",
   "metadata": {},
   "source": [
    "### looping over the lines in a file"
   ]
  },
  {
   "cell_type": "code",
   "execution_count": null,
   "metadata": {
    "tags": []
   },
   "outputs": [],
   "source": [
    "# use a for() loop to read the file line by line\n",
    "file = '../dasc_11004/data/cowboy_carter.txt'\n",
    "album = open(file, 'r')\n",
    "track_num = 1\n",
    "for track in album:\n",
    "    track = track.strip()\n",
    "    print(f'track number {track_num} is: {track}')\n",
    "    track_num += 1\n",
    "\n",
    "album.close()"
   ]
  },
  {
   "cell_type": "code",
   "execution_count": null,
   "metadata": {},
   "outputs": [],
   "source": [
    "# open an output file\n",
    "out = open('out.txt', 'w')\n",
    "\n",
    "# specify and open the input file\n",
    "file = '../dasc_11004/data/cowboy_carter.txt'\n",
    "album = open(file, 'r')\n",
    "\n",
    "# make a counter\n",
    "counter = 1\n",
    "\n",
    "for i in album:\n",
    "    # this is how we'd print to STDOUT\n",
    "    print(f'song number {counter} is: {i}')\n",
    "    # this is how we write to a file\n",
    "    out.write(f'song number {counter} is: {i}')\n",
    "    counter += 1"
   ]
  },
  {
   "cell_type": "code",
   "execution_count": 31,
   "metadata": {},
   "outputs": [],
   "source": [
    "# close the output file\n",
    "out.close()"
   ]
  },
  {
   "cell_type": "code",
   "execution_count": null,
   "metadata": {},
   "outputs": [],
   "source": []
  }
 ],
 "metadata": {
  "kernelspec": {
   "display_name": "Python 3",
   "language": "python",
   "name": "python3"
  },
  "language_info": {
   "codemirror_mode": {
    "name": "ipython",
    "version": 3
   },
   "file_extension": ".py",
   "mimetype": "text/x-python",
   "name": "python",
   "nbconvert_exporter": "python",
   "pygments_lexer": "ipython3",
   "version": "3.11.5"
  }
 },
 "nbformat": 4,
 "nbformat_minor": 4
}
